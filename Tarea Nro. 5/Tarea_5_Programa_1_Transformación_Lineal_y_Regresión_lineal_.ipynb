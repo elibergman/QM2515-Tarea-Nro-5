{
  "nbformat": 4,
  "nbformat_minor": 0,
  "metadata": {
    "colab": {
      "provenance": [],
      "authorship_tag": "ABX9TyOGPPEumKIwxgOKhovpK3ej",
      "include_colab_link": true
    },
    "kernelspec": {
      "name": "python3",
      "display_name": "Python 3"
    },
    "language_info": {
      "name": "python"
    }
  },
  "cells": [
    {
      "cell_type": "markdown",
      "metadata": {
        "id": "view-in-github",
        "colab_type": "text"
      },
      "source": [
        "<a href=\"https://colab.research.google.com/github/elibergman/QM2515-Tarea-Nro-5/blob/main/Tarea%20Nro.%205/Tarea_5_Programa_1_Transformaci%C3%B3n_Lineal_y_Regresi%C3%B3n_lineal_.ipynb\" target=\"_parent\"><img src=\"https://colab.research.google.com/assets/colab-badge.svg\" alt=\"Open In Colab\"/></a>"
      ]
    },
    {
      "cell_type": "code",
      "execution_count": null,
      "metadata": {
        "id": "L4JMEASL4aDr"
      },
      "outputs": [],
      "source": [
        "import numpy as np\n",
        "import matplotlib.pyplot as plt\n",
        "\n",
        "# Datos proporcionados\n",
        "x_datos = np.array([1, 2, 3, 5, 5])\n",
        "y_datos = np.array([0.5, 2, 2.9, 3.5, 4])\n",
        "\n",
        "# Transformación lineal: Y = ln(x), X = y\n",
        "Y = np.log(x_datos)\n",
        "X = y_datos\n",
        "\n",
        "# Regresión lineal simplificada usando polyfit para obtener m y c\n",
        "m, c = np.polyfit(X, Y, 1)\n",
        "\n",
        "# Calculamos a y b a partir de m y c\n",
        "a = 1 / m\n",
        "b = -c * a\n",
        "\n",
        "# Predecimos y para x = 2.6\n",
        "y_predicho = a * np.log(2.6) + b\n",
        "\n",
        "# Preparamos los datos para la gráfica\n",
        "X_linea = np.linspace(min(X), max(X), 100)\n",
        "Y_linea = m * X_linea + c\n",
        "\n",
        "# Graficamos\n",
        "plt.figure(figsize=(10, 5))\n",
        "plt.scatter(X, Y, color='#FF69B4', label='Datos Originales Transformados')\n",
        "plt.plot(X_linea, Y_linea, label='Regresión Lineal Transformada', color='green')\n",
        "plt.title('Transformación Lineal y Regresión Lineal')\n",
        "plt.xlabel('y')\n",
        "plt.ylabel('ln(x)')\n",
        "plt.legend()\n",
        "plt.show()\n",
        "\n",
        "# Resultados formateados\n",
        "resultados = f\"\"\"\n",
        "Los parámetros encontrados son:\n",
        "a = {a:.2f}\n",
        "b = {b:.2f}\n",
        "\n",
        "Con estos parámetros, la predicción de y para x = 2.6 es:\n",
        "y ≈ {y_predicho:.2f}\n",
        "\"\"\"\n",
        "\n",
        "print(resultados)\n"
      ]
    }
  ]
}