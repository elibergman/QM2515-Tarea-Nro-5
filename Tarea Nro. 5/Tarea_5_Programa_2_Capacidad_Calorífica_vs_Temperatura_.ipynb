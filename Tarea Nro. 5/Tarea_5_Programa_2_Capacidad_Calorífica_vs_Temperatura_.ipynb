{
  "nbformat": 4,
  "nbformat_minor": 0,
  "metadata": {
    "colab": {
      "provenance": [],
      "authorship_tag": "ABX9TyMjx5KeGU4HvrbQIFsA+Ulr",
      "include_colab_link": true
    },
    "kernelspec": {
      "name": "python3",
      "display_name": "Python 3"
    },
    "language_info": {
      "name": "python"
    }
  },
  "cells": [
    {
      "cell_type": "markdown",
      "metadata": {
        "id": "view-in-github",
        "colab_type": "text"
      },
      "source": [
        "<a href=\"https://colab.research.google.com/github/elibergman/QM2515-Tarea-Nro-5/blob/main/Tarea%20Nro.%205/Tarea_5_Programa_2_Capacidad_Calor%C3%ADfica_vs_Temperatura_.ipynb\" target=\"_parent\"><img src=\"https://colab.research.google.com/assets/colab-badge.svg\" alt=\"Open In Colab\"/></a>"
      ]
    },
    {
      "cell_type": "code",
      "execution_count": null,
      "metadata": {
        "id": "srR38pT7GInH"
      },
      "outputs": [],
      "source": [
        "import numpy as np\n",
        "import matplotlib.pyplot as plt\n",
        "from scipy.stats import linregress\n",
        "\n",
        "# Datos proporcionados\n",
        "T = np.array([-50, -30, 0, 60, 90, 110])  # Temperaturas\n",
        "c = np.array([1270, 1280, 1350, 1480, 1580, 1700])  # Capacidad calorífica\n",
        "\n",
        "# Realizamos la regresión lineal\n",
        "slope, intercept, r_value, _, _ = linregress(T, c)\n",
        "\n",
        "# Creamos un conjunto de puntos T para la gráfica\n",
        "T_linea = np.linspace(min(T), max(T), 100)\n",
        "c_linea = slope * T_linea + intercept\n",
        "\n",
        "# Graficamos los datos y la línea de regresión\n",
        "plt.figure(figsize=(10, 5))\n",
        "plt.scatter(T, c, color='#FF69B4', label='Datos Experimentales')\n",
        "plt.plot(T_linea, c_linea, label='Ajuste Lineal', color='green')\n",
        "plt.title('Regresión Lineal de la Capacidad Calorífica en función de la Temperatura')\n",
        "plt.xlabel('Temperatura (°C)')\n",
        "plt.ylabel('Capacidad Calorífica (c)')\n",
        "plt.legend()\n",
        "plt.grid(True)\n",
        "plt.show()\n",
        "\n",
        "print()\n",
        "# Formateamos la salida\n",
        "modelo = f\"El modelo de regresión lineal obtenido es: c = {slope:.2f} * T + {intercept:.2f}\"\n",
        "r_cuadrado = f\"El coeficiente de determinación (R^2) es: {r_value**2:.4f}, lo cual indica un excelente ajuste del modelo a los datos.\"\n",
        "\n",
        "print(modelo)\n",
        "print(r_cuadrado)\n",
        "\n"
      ]
    }
  ]
}